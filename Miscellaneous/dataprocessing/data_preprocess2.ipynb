{
  "nbformat": 4,
  "nbformat_minor": 0,
  "metadata": {
    "colab": {
      "provenance": []
    },
    "kernelspec": {
      "name": "python3",
      "display_name": "Python 3"
    },
    "language_info": {
      "name": "python"
    }
  },
  "cells": [
    {
      "cell_type": "markdown",
      "source": [
        "## import"
      ],
      "metadata": {
        "id": "6dmGwOMnk8hv"
      }
    },
    {
      "cell_type": "code",
      "execution_count": null,
      "metadata": {
        "id": "5AWJ4vCINVtf"
      },
      "outputs": [],
      "source": [
        "import nltk\n",
        "import pandas as pd\n",
        "from nltk.util import ngrams\n",
        "from collections import Counter\n",
        "from nltk.corpus import stopwords\n",
        "from sklearn.feature_extraction.text import TfidfVectorizer\n",
        "import re\n",
        "import string"
      ]
    },
    {
      "cell_type": "code",
      "source": [
        "from google.colab import drive\n",
        "drive.mount('/content/drive')"
      ],
      "metadata": {
        "colab": {
          "base_uri": "https://localhost:8080/"
        },
        "id": "1fkFdakhMe7Z",
        "outputId": "3beefa61-e703-44a9-f7f7-286b1b811237"
      },
      "execution_count": null,
      "outputs": [
        {
          "output_type": "stream",
          "name": "stdout",
          "text": [
            "Drive already mounted at /content/drive; to attempt to forcibly remount, call drive.mount(\"/content/drive\", force_remount=True).\n"
          ]
        }
      ]
    },
    {
      "cell_type": "markdown",
      "source": [
        "## TF-IDF"
      ],
      "metadata": {
        "id": "_VLlmgnQlFwT"
      }
    },
    {
      "cell_type": "code",
      "source": [
        "# 1. 读取文本文件\n",
        "with open('/content/drive/MyDrive/iss/5001/GENERAL INFORMATION.txt', 'r', encoding='utf-8') as file:\n",
        "    text_data = file.readlines()"
      ],
      "metadata": {
        "id": "FXsYTAmUNcp8"
      },
      "execution_count": null,
      "outputs": []
    },
    {
      "cell_type": "code",
      "source": [
        "# 下载停用词列表（如果没有下载过的话）\n",
        "nltk.download('stopwords')\n",
        "\n",
        "# 加载停用词列表\n",
        "stop_words = set(stopwords.words('english'))\n",
        "\n",
        "# 2. 文本预处理\n",
        "def preprocess_text(text):\n",
        "    # 这是一个示例，你可以根据需要进行自定义的文本预处理\n",
        "    text = text.lower()  # 将文本转换为小写\n",
        "    text = re.sub(r'[^a-zA-Z0-9\\s]', '', text)  # 移除非字母数字字符\n",
        "    # 分词并去掉停用词\n",
        "    tokens = text.split()\n",
        "    filtered_tokens = [word for word in tokens if word not in stop_words]\n",
        "    return ' '.join(filtered_tokens)\n",
        "\n",
        "preprocessed_data = [preprocess_text(text) for text in text_data]\n",
        "\n",
        "# 3. 使用TfidfVectorizer进行TF-IDF特征提取\n",
        "tfidf_vectorizer = TfidfVectorizer()\n",
        "tfidf_matrix = tfidf_vectorizer.fit_transform(preprocessed_data)\n",
        "\n",
        "# 4. 将TF-IDF结果存储在Pandas数据框中\n",
        "tfidf_df = pd.DataFrame(data=tfidf_matrix.toarray(), columns=tfidf_vectorizer.get_feature_names_out())\n",
        "\n",
        "# 5. 计算每个词的总TF-IDF得分，然后按照得分降序排序以查找出现频率较高的词\n",
        "word_frequencies = tfidf_df.sum().sort_values(ascending=False)\n",
        "# print(word_frequencies)\n",
        "\n",
        "# 6. 输出前50个最高频率的词汇\n",
        "top_50_words = word_frequencies.head(50)\n",
        "print(top_50_words)"
      ],
      "metadata": {
        "colab": {
          "base_uri": "https://localhost:8080/"
        },
        "id": "kGGDeQBTNe3E",
        "outputId": "bdbfd92c-a464-4c50-cb39-f7aa5eedaf9a"
      },
      "execution_count": null,
      "outputs": [
        {
          "output_type": "stream",
          "name": "stdout",
          "text": [
            "plant           19.885357\n",
            "plants          13.592569\n",
            "leaves          13.453856\n",
            "family          10.098758\n",
            "genus            9.728717\n",
            "species          9.616411\n",
            "known            9.129046\n",
            "philodendron     8.988529\n",
            "green            8.968011\n",
            "native           7.915988\n",
            "also             7.872250\n",
            "foliage          7.442807\n",
            "indoor           7.197701\n",
            "tropical         7.192686\n",
            "grow             7.163954\n",
            "popular          6.467067\n",
            "flowering        6.425223\n",
            "tree             6.422277\n",
            "one              6.092995\n",
            "light            5.974086\n",
            "red              5.880311\n",
            "common           5.600970\n",
            "dark             5.470250\n",
            "houseplant       5.459303\n",
            "name             5.256599\n",
            "cactus           5.159550\n",
            "long             5.154078\n",
            "like             5.064711\n",
            "evergreen        4.920710\n",
            "ficus            4.724164\n",
            "houseplants      4.705192\n",
            "often            4.672859\n",
            "araceae          4.623844\n",
            "stems            4.572468\n",
            "color            4.528370\n",
            "grown            4.527553\n",
            "flower           4.520414\n",
            "several          4.479401\n",
            "south            4.456538\n",
            "easy             4.416004\n",
            "small            4.415182\n",
            "make             4.398012\n",
            "alocasia         4.375106\n",
            "caladium         4.372089\n",
            "indoors          4.356745\n",
            "beautiful        4.319313\n",
            "slowgrowing      4.302005\n",
            "succulent        4.250076\n",
            "fern             4.129458\n",
            "home             4.096409\n",
            "dtype: float64\n"
          ]
        },
        {
          "output_type": "stream",
          "name": "stderr",
          "text": [
            "[nltk_data] Downloading package stopwords to /root/nltk_data...\n",
            "[nltk_data]   Unzipping corpora/stopwords.zip.\n"
          ]
        }
      ]
    },
    {
      "cell_type": "markdown",
      "source": [
        "## N-grams"
      ],
      "metadata": {
        "id": "gtdho5CIlLAj"
      }
    },
    {
      "cell_type": "code",
      "source": [
        "# 1. 读取文本文件\n",
        "with open('/content/drive/MyDrive/iss/5001/GENERAL INFORMATION.txt', 'r', encoding='utf-8') as file:\n",
        "    text = file.read()"
      ],
      "metadata": {
        "id": "jriooOUrNetK"
      },
      "execution_count": null,
      "outputs": []
    },
    {
      "cell_type": "code",
      "source": [
        "nltk.download('punkt')\n",
        "\n",
        "# 2. 文本预处理\n",
        "def preprocess_text(text):\n",
        "    # 将文本转换为小写\n",
        "    text = text.lower()\n",
        "    # 移除标点符号\n",
        "    text = text.translate(str.maketrans('', '', string.punctuation))\n",
        "    return text\n",
        "\n",
        "# 3. 分词\n",
        "def tokenize_and_remove_stopwords(text):\n",
        "    words = nltk.word_tokenize(text)\n",
        "    stopwords = set(nltk.corpus.stopwords.words('english'))\n",
        "    words = [word for word in words if word not in stopwords]\n",
        "    return words\n",
        "\n",
        "preprocessed_text = preprocess_text(text)\n",
        "words = tokenize_and_remove_stopwords(preprocessed_text)\n",
        "\n",
        "# 4. 生成N-grams，并统计频率\n",
        "n_values = [1, 2]  # 1-gram, 2-gram, 3-gram, and 4-gram\n",
        "ngram_results = {}\n",
        "\n",
        "for n in n_values:\n",
        "    ngrams_list = list(ngrams(words, n))\n",
        "    ngram_counts = Counter(ngrams_list)\n",
        "    ngram_results[n] = ngram_counts\n",
        "\n",
        "# 5. 输出每个N-gram长度的前50个最高频率的N-grams\n",
        "for n in n_values:\n",
        "    print(f\"{n}-grams:\")\n",
        "    top_ngrams = ngram_results[n].most_common(50)\n",
        "    for ngram, count in top_ngrams:\n",
        "        print(f\"{ngram}: {count}\")\n",
        "    print()\n",
        "\n",
        "print(f\"{1}-grams:\")\n",
        "top_ngrams = ngram_results[1].most_common(50)\n",
        "for ngram, count in top_ngrams:\n",
        "    print(f\"{ngram}\")\n",
        "print()"
      ],
      "metadata": {
        "colab": {
          "base_uri": "https://localhost:8080/"
        },
        "id": "SjdsmhugQFi4",
        "outputId": "04b187d2-44e5-4816-9550-906952f07b63"
      },
      "execution_count": null,
      "outputs": [
        {
          "output_type": "stream",
          "name": "stderr",
          "text": [
            "[nltk_data] Downloading package punkt to /root/nltk_data...\n",
            "[nltk_data]   Unzipping tokenizers/punkt.zip.\n"
          ]
        },
        {
          "output_type": "stream",
          "name": "stdout",
          "text": [
            "1-grams:\n",
            "('plant',): 471\n",
            "('leaves',): 259\n",
            "('plants',): 215\n",
            "('known',): 140\n",
            "('family',): 130\n",
            "('green',): 126\n",
            "('species',): 122\n",
            "('also',): 115\n",
            "('native',): 114\n",
            "('genus',): 112\n",
            "('indoor',): 101\n",
            "('foliage',): 100\n",
            "('philodendron',): 90\n",
            "('tropical',): 89\n",
            "('grow',): 87\n",
            "('light',): 79\n",
            "('popular',): 77\n",
            "('tree',): 64\n",
            "('red',): 62\n",
            "('houseplant',): 62\n",
            "('flowering',): 61\n",
            "('one',): 56\n",
            "('common',): 56\n",
            "('cactus',): 53\n",
            "('dark',): 53\n",
            "('soil',): 53\n",
            "('grown',): 52\n",
            "('name',): 51\n",
            "('small',): 50\n",
            "('often',): 48\n",
            "('bright',): 47\n",
            "('like',): 46\n",
            "('stems',): 44\n",
            "('long',): 44\n",
            "('used',): 44\n",
            "('flowers',): 43\n",
            "('evergreen',): 43\n",
            "('conditions',): 43\n",
            "('succulent',): 43\n",
            "('making',): 43\n",
            "('commonly',): 42\n",
            "('easy',): 42\n",
            "('care',): 42\n",
            "('white',): 41\n",
            "('houseplants',): 41\n",
            "('unique',): 41\n",
            "('color',): 40\n",
            "('attractive',): 40\n",
            "('beautiful',): 40\n",
            "('air',): 40\n",
            "\n",
            "2-grams:\n",
            "('also', 'known'): 60\n",
            "('dark', 'green'): 45\n",
            "('flowering', 'plants'): 29\n",
            "('family', 'araceae'): 28\n",
            "('flowering', 'plant'): 28\n",
            "('plants', 'family'): 27\n",
            "('species', 'flowering'): 24\n",
            "('common', 'name'): 24\n",
            "('welldraining', 'soil'): 23\n",
            "('genus', 'flowering'): 22\n",
            "('green', 'leaves'): 21\n",
            "('commonly', 'known'): 21\n",
            "('full', 'sun'): 20\n",
            "('plant', 'family'): 20\n",
            "('make', 'excellent'): 19\n",
            "('easy', 'care'): 18\n",
            "('bright', 'indirect'): 18\n",
            "('foliage', 'plants'): 17\n",
            "('indirect', 'light'): 17\n",
            "('chinese', 'evergreen'): 16\n",
            "('plant', 'several'): 16\n",
            "('plant', 'native'): 16\n",
            "('making', 'suitable'): 16\n",
            "('common', 'names'): 16\n",
            "('decorative', 'plant'): 15\n",
            "('green', 'silver'): 15\n",
            "('indoors', 'especially'): 15\n",
            "('tropical', 'plant'): 15\n",
            "('aglaonema', 'also'): 14\n",
            "('known', 'chinese'): 14\n",
            "('evergreen', 'highly'): 14\n",
            "('highly', 'decorative'): 14\n",
            "('several', 'interesting'): 14\n",
            "('interesting', 'varieties'): 14\n",
            "('color', 'variations'): 14\n",
            "('variations', 'dark'): 14\n",
            "('silver', 'hints'): 14\n",
            "('hints', 'red'): 14\n",
            "('red', 'add'): 14\n",
            "('add', 'homes'): 14\n",
            "('aglaonemas', 'slowgrowing'): 14\n",
            "('slowgrowing', 'attractive'): 14\n",
            "('attractive', 'make'): 14\n",
            "('excellent', 'foliage'): 14\n",
            "('plants', 'best'): 14\n",
            "('best', 'like'): 14\n",
            "('like', 'full'): 14\n",
            "('sun', 'perfect'): 14\n",
            "('perfect', 'indoors'): 14\n",
            "('especially', 'window'): 14\n",
            "\n",
            "1-grams:\n",
            "('plant',)\n",
            "('leaves',)\n",
            "('plants',)\n",
            "('known',)\n",
            "('family',)\n",
            "('green',)\n",
            "('species',)\n",
            "('also',)\n",
            "('native',)\n",
            "('genus',)\n",
            "('indoor',)\n",
            "('foliage',)\n",
            "('philodendron',)\n",
            "('tropical',)\n",
            "('grow',)\n",
            "('light',)\n",
            "('popular',)\n",
            "('tree',)\n",
            "('red',)\n",
            "('houseplant',)\n",
            "('flowering',)\n",
            "('one',)\n",
            "('common',)\n",
            "('cactus',)\n",
            "('dark',)\n",
            "('soil',)\n",
            "('grown',)\n",
            "('name',)\n",
            "('small',)\n",
            "('often',)\n",
            "('bright',)\n",
            "('like',)\n",
            "('stems',)\n",
            "('long',)\n",
            "('used',)\n",
            "('flowers',)\n",
            "('evergreen',)\n",
            "('conditions',)\n",
            "('succulent',)\n",
            "('making',)\n",
            "('commonly',)\n",
            "('easy',)\n",
            "('care',)\n",
            "('white',)\n",
            "('houseplants',)\n",
            "('unique',)\n",
            "('color',)\n",
            "('attractive',)\n",
            "('beautiful',)\n",
            "('air',)\n",
            "\n"
          ]
        }
      ]
    },
    {
      "cell_type": "markdown",
      "source": [
        "## Merge"
      ],
      "metadata": {
        "id": "Q8BaH_aOlSQB"
      }
    },
    {
      "cell_type": "code",
      "source": [
        "# 合并tf-idf和tf的top50单词\n",
        "merged_top_words = list(top_50_words.index) + [ngram[0] for ngram, count in top_ngrams]\n",
        "# 去重\n",
        "merged_top_words = list(set(merged_top_words))\n",
        "print(merged_top_words)\n",
        "print(len(merged_top_words))"
      ],
      "metadata": {
        "colab": {
          "base_uri": "https://localhost:8080/"
        },
        "id": "ES7lpsRWjxCQ",
        "outputId": "40fbda98-2348-4bc2-e6ee-faa2a6efe686"
      },
      "execution_count": null,
      "outputs": [
        {
          "output_type": "stream",
          "name": "stdout",
          "text": [
            "['leaves', 'plant', 'one', 'beautiful', 'genus', 'tropical', 'family', 'light', 'cactus', 'several', 'philodendron', 'soil', 'species', 'grown', 'flowers', 'foliage', 'indoors', 'care', 'small', 'houseplants', 'evergreen', 'attractive', 'color', 'popular', 'easy', 'make', 'also', 'bright', 'fern', 'indoor', 'used', 'air', 'native', 'conditions', 'south', 'unique', 'plants', 'making', 'tree', 'name', 'dark', 'commonly', 'grow', 'like', 'white', 'known', 'slowgrowing', 'green', 'houseplant', 'alocasia', 'ficus', 'flowering', 'home', 'succulent', 'long', 'often', 'caladium', 'common', 'stems', 'araceae', 'red', 'flower']\n",
            "62\n"
          ]
        }
      ]
    },
    {
      "cell_type": "markdown",
      "source": [
        "## Test"
      ],
      "metadata": {
        "id": "Mv1gNbUtam2e"
      }
    },
    {
      "cell_type": "code",
      "source": [
        "import pandas as pd\n",
        "df = pd.DataFrame({'Category': ['A', 'B', 'C']})\n",
        "print(df)\n",
        "print(\"Dummy variables\")\n",
        "df_dummy = pd.get_dummies(df['Category'], dtype=int, drop_first=True)\n",
        "print(df_dummy)"
      ],
      "metadata": {
        "colab": {
          "base_uri": "https://localhost:8080/"
        },
        "id": "wsWOby1IaoUG",
        "outputId": "dc1e4fe2-e0ad-419c-c2e4-584baa482c9b"
      },
      "execution_count": null,
      "outputs": [
        {
          "output_type": "stream",
          "name": "stdout",
          "text": [
            "  Category\n",
            "0        A\n",
            "1        B\n",
            "2        C\n",
            "Dummy variables\n",
            "   B  C\n",
            "0  0  0\n",
            "1  1  0\n",
            "2  0  1\n"
          ]
        }
      ]
    },
    {
      "cell_type": "code",
      "source": [
        "import pandas as pd\n",
        "from collections import Counter\n",
        "\n",
        "# 原始数据\n",
        "data = {\n",
        "    \"SOIL REQUIREMENT\": [\n",
        "        \"Suitable for light (sandy), medium (loamy) soils, prefers well-drained soil and can grow in nutritionally poor soil.\",\n",
        "        \"Most ferns grow best in slightly acidic soils; however, maidenhair ferns prefer a more alkaline soil pH. Adding some ground limestone to the potting mix of container-grown plants or mixing it into your outdoor beds will help with this.\",\n",
        "        \"A well-drained, lightly acidic potting soil is perfect.\",\n",
        "        \"A well-drained, lightly acidic potting soil is perfect.\",\n",
        "        \"A well-drained, lightly acidic potting soil is perfect.\",\n",
        "        \"A well-drained, lightly acidic potting soil is perfect.\",\n",
        "        \"A well-drained, lightly acidic potting soil is perfect.\"\n",
        "    ]\n",
        "}\n",
        "\n",
        "# 创建数据帧\n",
        "df = pd.DataFrame(data)\n",
        "\n",
        "# 分词和计算词频\n",
        "def calculate_word_frequencies(text):\n",
        "    words = text.split()\n",
        "    word_counts = Counter(words)\n",
        "    return word_counts\n",
        "\n",
        "# 选择高频单词的数量\n",
        "top_words_count = 5  # 选择前5个高频单词\n",
        "\n",
        "# 提取高频单词并创建新列\n",
        "df['Top_Words'] = df['SOIL REQUIREMENT'].apply(calculate_word_frequencies).apply(lambda x: [word for word, _ in x.most_common(top_words_count)])\n",
        "\n",
        "# 输出结果\n",
        "print(df)\n"
      ],
      "metadata": {
        "colab": {
          "base_uri": "https://localhost:8080/"
        },
        "id": "x7vQgNuIcEoz",
        "outputId": "d782768e-ddb2-48f4-f286-d7178ad80a75"
      },
      "execution_count": null,
      "outputs": [
        {
          "output_type": "stream",
          "name": "stdout",
          "text": [
            "                                    SOIL REQUIREMENT  \\\n",
            "0  Suitable for light (sandy), medium (loamy) soi...   \n",
            "1  Most ferns grow best in slightly acidic soils;...   \n",
            "2  A well-drained, lightly acidic potting soil is...   \n",
            "3  A well-drained, lightly acidic potting soil is...   \n",
            "4  A well-drained, lightly acidic potting soil is...   \n",
            "5  A well-drained, lightly acidic potting soil is...   \n",
            "6  A well-drained, lightly acidic potting soil is...   \n",
            "\n",
            "                                      Top_Words  \n",
            "0      [Suitable, for, light, (sandy),, medium]  \n",
            "1                 [ferns, Most, grow, best, in]  \n",
            "2  [A, well-drained,, lightly, acidic, potting]  \n",
            "3  [A, well-drained,, lightly, acidic, potting]  \n",
            "4  [A, well-drained,, lightly, acidic, potting]  \n",
            "5  [A, well-drained,, lightly, acidic, potting]  \n",
            "6  [A, well-drained,, lightly, acidic, potting]  \n"
          ]
        }
      ]
    },
    {
      "cell_type": "code",
      "source": [
        "import re\n",
        "\n",
        "# 示例数据\n",
        "data = \"\"\"Plant Overall Height APPROXIMATELY:- 16cm for POT SIZE 12cm(?)\n",
        "Plant Overall Height APPROXIMATELY:- 35cm for POT SIZE 15cm(?)\n",
        "Plant Overall Height APPROXIMATELY:- 28cm for POT SIZE 14cm(?)\n",
        "...\"\"\"\n",
        "\n",
        "# 使用正则表达式匹配数字\n",
        "heights = re.findall(r'\\d+cm', data)\n",
        "\n",
        "# 打印提取的数值信息\n",
        "for height in heights:\n",
        "    print(height)\n"
      ],
      "metadata": {
        "colab": {
          "base_uri": "https://localhost:8080/"
        },
        "id": "ouE_g5olj3Pj",
        "outputId": "bc28a886-9718-47b6-c151-30e9ae450486"
      },
      "execution_count": null,
      "outputs": [
        {
          "output_type": "stream",
          "name": "stdout",
          "text": [
            "16cm\n",
            "12cm\n",
            "35cm\n",
            "15cm\n",
            "28cm\n",
            "14cm\n"
          ]
        }
      ]
    },
    {
      "cell_type": "markdown",
      "source": [
        "## Catch Keywords"
      ],
      "metadata": {
        "id": "sGNFvaEEG7Xz"
      }
    },
    {
      "cell_type": "code",
      "source": [
        "import pandas as pd\n",
        "from collections import Counter\n",
        "\n",
        "# 1-gram中的高频词汇\n",
        "\n",
        "# SOIL\n",
        "# top_words_1gram = ['organic', 'welldrained', 'acidic', 'welldraining',\n",
        "#         'caladium', 'sandy', 'vermiculite', 'regular','medium', 'loose',\n",
        "#         'mixture', 'light', 'drainage', 'moist', 'peat',\n",
        "#         'moss', 'cactus', 'perlite', 'coarse',\n",
        "#         'moisture', 'rich', 'matter', 'mix', 'loamy', 'compost', 'bark',\n",
        "#         'porous', 'sphagnum', 'high', 'orchid', 'peatbased', 'sand']\n",
        "\n",
        "# FERTILIZE\n",
        "# top_words_1gram = ['strength', 'houseplant', 'pellets', 'month', 'feed', 'soil',\n",
        "#           'halfstrength', 'slowrelease', 'aglaonema', 'balanced',\n",
        "#           'watersoluble', 'two', 'use', 'houseplants', 'weekly', 'high',\n",
        "#           'months', 'per', 'roots', 'summer', 'philodendron',\n",
        "#           'macronutrients', 'diluted', 'regular', 'season', 'foliage', 'weeks',\n",
        "#           'liquid', 'spring', 'necessary', 'fertilizer', 'food', 'monthly', 'nitrogen',\n",
        "#           'recommended', 'winter', 'growth', 'three', 'water']\n",
        "# LIGHT\n",
        "# top_words_1gram = ['expose', 'near', 'day', 'aglaonema', 'exposure',\n",
        "#           'never', 'direct', 'scorch', 'part', 'full', 'partial',\n",
        "#           'position', 'hot', 'low', 'avoid', 'ideal',\n",
        "#           'provide', 'varieties', 'foliage', 'filtered', 'shady',\n",
        "#           'morning', 'medium', 'shaded', 'shade', 'conditions', 'much', 'tolerate',\n",
        "#            'indirect', 'bright', 'indoors', 'touch', 'window', 'moderate']\n",
        "\n",
        "# water\n",
        "# top_words_1gram = ['soil', 'regularly', 'thoroughly', 'never', 'humidity', 'level',\n",
        "#           'good', 'overwater', 'overwatering', 'index', 'often',\n",
        "#           'week', 'avoid', 'summer', 'philodendron', 'least', 'slightly',\n",
        "#           'dry', 'season', 'moisture', 'soggy', 'evenly',\n",
        "#           'reduce', 'inch', 'winter', 'moist', 'little', 'moderate']\n",
        "# If not specify, set 'regular'\n",
        "\n",
        "# GENERAL\n",
        "# top_words_1gram = ['leaves', 'beautiful', 'tropical', 'family', 'cactus', 'philodendron',\n",
        "#           'flowers', 'foliage', 'evergreen', 'attractive', 'color', 'popular', 'easy',\n",
        "#           'fern', 'tree', 'alocasia', 'ficus', 'flowering', 'succulent', 'caladium',\n",
        "#           'araceae', 'flower']\n",
        "top_words_1gram = ['premium', 'cactus', 'climber', 'creeper', 'fern', 'herb',\n",
        "           'orchid', 'shrub', 'succulent', 'tree', 'tropical', 'flower',\n",
        "           'evergreen', 'attractive', 'philodendron', 'alocasia', 'ficus', 'caladium']\n",
        "# 读取原始数据文件\n",
        "input_file = \"/content/drive/MyDrive/iss/5001/GENERAL INFORMATION.txt\"\n",
        "output_file = \"/content/drive/MyDrive/iss/5001/GENERAL INFORMATION_output.txt\"\n",
        "\n",
        "# 读取原始数据文件并创建数据帧\n",
        "df = pd.read_csv(input_file, delimiter=\"\\t\")\n"
      ],
      "metadata": {
        "id": "O5yD4F_edLR6"
      },
      "execution_count": null,
      "outputs": []
    },
    {
      "cell_type": "code",
      "source": [
        "# 数据处理：对文本进行预处理和筛选高频词汇并去重\n",
        "def preprocess_and_filter(text):\n",
        "    # 这是一个示例，你可以根据需要进行自定义的文本预处理和筛选\n",
        "    text = text.lower()  # 将文本转换为小写\n",
        "    text = text.translate(str.maketrans('', '', string.punctuation))\n",
        "    words = text.split()\n",
        "    words = [word for word in words if word in top_words_1gram]\n",
        "    words = list(set(words))  # 去重\n",
        "    return ' '.join(words)\n",
        "\n",
        "# 数据处理：保留包含高频词汇的部分并去重\n",
        "df['Processed_Text'] = df['GENERAL INFORMATION'].apply(preprocess_and_filter)\n",
        "\n",
        "# 将结果输出到同一文件，覆盖原始数据\n",
        "df.to_csv(output_file, sep=\"\\t\", index=False)"
      ],
      "metadata": {
        "id": "vdBqtU11vcWA"
      },
      "execution_count": null,
      "outputs": []
    },
    {
      "cell_type": "markdown",
      "source": [
        "## PRODUCT MEASUREMENT"
      ],
      "metadata": {
        "id": "2nb_lK4yj3-S"
      }
    },
    {
      "cell_type": "code",
      "source": [
        "# 读取原始数据文件\n",
        "input_file = \"/content/drive/MyDrive/iss/5001/PRODUCT MEASUREMENT.txt\"\n",
        "output_file = \"/content/drive/MyDrive/iss/5001/PRODUCT MEASUREMENT_output.txt\"\n",
        "\n",
        "# 读取原始数据文件并创建数据帧\n",
        "df = pd.read_csv(input_file, delimiter=\"\\t\")"
      ],
      "metadata": {
        "id": "bfzUOqMrkd4c"
      },
      "execution_count": null,
      "outputs": []
    },
    {
      "cell_type": "code",
      "source": [
        "# 数据处理：对文本进行预处理和筛选高频词汇并去重\n",
        "def preprocess_and_filter(text):\n",
        "    # 移除标点符号\n",
        "    text = str(text)\n",
        "    text = text.translate(str.maketrans('', '', string.punctuation))\n",
        "    # 使用正则表达式匹配数字，并将匹配到的数字连接为字符串\n",
        "    numbers = ' '.join(re.findall(r'\\d+cm', text))\n",
        "    return numbers\n",
        "\n",
        "df['Processed_Text'] = df['PRODUCT MEASUREMENT'].apply(preprocess_and_filter)\n",
        "\n",
        "# 将结果输出到同一文件，覆盖原始数据\n",
        "df.to_csv(output_file, sep=\"\\t\", index=False)"
      ],
      "metadata": {
        "id": "0KfMT8iwkkYl"
      },
      "execution_count": null,
      "outputs": []
    }
  ]
}